{
 "cells": [
  {
   "cell_type": "markdown",
   "metadata": {},
   "source": [
    "# exercise from class 5 slide 13"
   ]
  },
  {
   "cell_type": "code",
   "execution_count": 1,
   "metadata": {},
   "outputs": [
    {
     "name": "stdout",
     "output_type": "stream",
     "text": [
      "Precisão modelo feito por outros: 0.3333333333333333\n",
      "Coefficients: [0.8 1.4]\n",
      "Mean Squared Error (MSE): 0.24999999999999956\n",
      "Predictions: [13.9]\n"
     ]
    }
   ],
   "source": [
    "import sys\n",
    "sys.path.append(\"C:\\\\Users\\\\guilh\\\\OneDrive\\\\Documentos\\\\GitHub\\\\sistemasinteligentes\")\n",
    "import numpy as np\n",
    "import pandas as pd\n",
    "from src.si.data.dataset import Dataset\n",
    "from src.io.csv_file import read_csv, write_csv \n",
    "from src.io.data_file import *\n",
    "from src.si.statistics.f_classification import f_classification\n",
    "from src.si.feature_selection.percentile import Percentile\n",
    "from src.si.decomposition.pca import PCA\n",
    "from src.si.statistics.euclidean_distance import euclidean_distance\n",
    "from src.si.clustering.kmeans import Kmeans\n",
    "from src.si.metrics.accuracy import accuracy\n",
    "from src.si.metrics.rmse import rmse\n",
    "from src.si.model_selection import *\n",
    "from src.si.model_selection.split import train_test_split\n",
    "from src.si.model_selection.split import stratified_train_test_split\n",
    "from collections import Counter\n",
    "from src.si.models.knn_regressor import KNNRegressor\n",
    "from src.si.models.categorical_nb import CategoricalNB\n",
    "from src.si.models.knn_classifier import KNNClassifier\n",
    "from src.si.models.ridge_regression import RidgeRegression\n",
    "from src.si.models.logistic_regression import LogisticRegression"
   ]
  },
  {
   "cell_type": "markdown",
   "metadata": {},
   "source": [
    "# ridge- some error maybe"
   ]
  },
  {
   "cell_type": "code",
   "execution_count": 5,
   "metadata": {},
   "outputs": [
    {
     "name": "stdout",
     "output_type": "stream",
     "text": [
      "Score: 5770.124144763875\n",
      "Cost: 2973.347643358635\n"
     ]
    }
   ],
   "source": [
    "filename_cpu = r\"C:\\Users\\guilh\\OneDrive\\Documentos\\GitHub\\sistemasinteligentes\\datasets\\cpu\\cpu.csv\"\n",
    "cpu=read_csv(filename_cpu, sep=\",\",features=True,label=True)\n",
    "trains_data, tests_data = train_test_split(cpu, test_size=0.20, random_state=42)\n",
    "model = RidgeRegression()\n",
    "model.fit(trains_data)\n",
    "score = model.score(tests_data)\n",
    "print(f\"Score: {score}\")\n",
    "cost = model.cost(tests_data)\n",
    "print(f\"Cost: {cost}\")"
   ]
  },
  {
   "cell_type": "markdown",
   "metadata": {},
   "source": [
    "# logistic"
   ]
  },
  {
   "cell_type": "code",
   "execution_count": 4,
   "metadata": {},
   "outputs": [
    {
     "name": "stdout",
     "output_type": "stream",
     "text": [
      "Score: 0.9856115107913669\n",
      "Cost: 0.6449832505507311\n"
     ]
    }
   ],
   "source": [
    "filename_breast = r\"C:\\Users\\guilh\\OneDrive\\Documentos\\GitHub\\sistemasinteligentes\\datasets\\breast_bin\\breast-bin.csv\"\n",
    "breast=read_csv(filename_breast, sep=\",\",features=True,label=True)\n",
    "train_data, test_data = train_test_split(breast, test_size=0.20, random_state=42)\n",
    "model = LogisticRegression()\n",
    "model.fit(train_data)\n",
    "score = model.score(test_data)\n",
    "print(f\"Score: {score}\")\n",
    "cost = model.cost(test_data)\n",
    "print(f\"Cost: {cost}\")"
   ]
  },
  {
   "cell_type": "code",
   "execution_count": null,
   "metadata": {},
   "outputs": [],
   "source": []
  }
 ],
 "metadata": {
  "kernelspec": {
   "display_name": "Python 3",
   "language": "python",
   "name": "python3"
  },
  "language_info": {
   "codemirror_mode": {
    "name": "ipython",
    "version": 3
   },
   "file_extension": ".py",
   "mimetype": "text/x-python",
   "name": "python",
   "nbconvert_exporter": "python",
   "pygments_lexer": "ipython3",
   "version": "3.11.3"
  }
 },
 "nbformat": 4,
 "nbformat_minor": 2
}
