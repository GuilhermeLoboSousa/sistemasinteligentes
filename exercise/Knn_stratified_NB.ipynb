{
 "cells": [
  {
   "cell_type": "markdown",
   "metadata": {},
   "source": [
    "test stratified/knn regressor and Naive Bayes"
   ]
  },
  {
   "cell_type": "code",
   "execution_count": 6,
   "metadata": {},
   "outputs": [
    {
     "name": "stdout",
     "output_type": "stream",
     "text": [
      "Precisão modelo feito por outros: 0.3333333333333333\n"
     ]
    }
   ],
   "source": [
    "import sys\n",
    "sys.path.append(\"C:\\\\Users\\\\guilh\\\\OneDrive\\\\Documentos\\\\GitHub\\\\sistemasinteligentes\")\n",
    "import numpy as np\n",
    "import pandas as pd\n",
    "from src.si.data.dataset import Dataset\n",
    "from src.io.csv_file import read_csv, write_csv \n",
    "from src.io.data_file import *\n",
    "from src.si.decomposition.pca import PCA\n",
    "from src.si.statistics.euclidean_distance import euclidean_distance\n",
    "from src.si.clustering.kmeans import Kmeans\n",
    "import matplotlib.pyplot as plt\n",
    "from src.si.metrics.accuracy import accuracy\n",
    "from src.si.metrics.rmse import rmse\n",
    "from src.si.model_selection import *\n",
    "from src.si.model_selection.split import train_test_split\n",
    "from src.si.model_selection.split import stratified_train_test_split\n",
    "from collections import Counter\n",
    "from src.si.models.knn_regressor import KNNRegressor\n",
    "from src.si.models.categorical_nb import CategoricalNB\n",
    "from src.si.models.knn_classifier import KNNClassifier\n"
   ]
  },
  {
   "cell_type": "code",
   "execution_count": 11,
   "metadata": {},
   "outputs": [
    {
     "data": {
      "text/html": [
       "<div>\n",
       "<style scoped>\n",
       "    .dataframe tbody tr th:only-of-type {\n",
       "        vertical-align: middle;\n",
       "    }\n",
       "\n",
       "    .dataframe tbody tr th {\n",
       "        vertical-align: top;\n",
       "    }\n",
       "\n",
       "    .dataframe thead th {\n",
       "        text-align: right;\n",
       "    }\n",
       "</style>\n",
       "<table border=\"1\" class=\"dataframe\">\n",
       "  <thead>\n",
       "    <tr style=\"text-align: right;\">\n",
       "      <th></th>\n",
       "      <th>sepal_length</th>\n",
       "      <th>sepal_width</th>\n",
       "      <th>petal_length</th>\n",
       "      <th>petal_width</th>\n",
       "    </tr>\n",
       "  </thead>\n",
       "  <tbody>\n",
       "    <tr>\n",
       "      <th>mean</th>\n",
       "      <td>5.843333</td>\n",
       "      <td>3.054000</td>\n",
       "      <td>3.758667</td>\n",
       "      <td>1.198667</td>\n",
       "    </tr>\n",
       "    <tr>\n",
       "      <th>variance</th>\n",
       "      <td>0.681122</td>\n",
       "      <td>0.186751</td>\n",
       "      <td>3.092425</td>\n",
       "      <td>0.578532</td>\n",
       "    </tr>\n",
       "    <tr>\n",
       "      <th>median</th>\n",
       "      <td>5.800000</td>\n",
       "      <td>3.000000</td>\n",
       "      <td>4.350000</td>\n",
       "      <td>1.300000</td>\n",
       "    </tr>\n",
       "    <tr>\n",
       "      <th>max</th>\n",
       "      <td>7.900000</td>\n",
       "      <td>4.400000</td>\n",
       "      <td>6.900000</td>\n",
       "      <td>2.500000</td>\n",
       "    </tr>\n",
       "    <tr>\n",
       "      <th>min</th>\n",
       "      <td>4.300000</td>\n",
       "      <td>2.000000</td>\n",
       "      <td>1.000000</td>\n",
       "      <td>0.100000</td>\n",
       "    </tr>\n",
       "  </tbody>\n",
       "</table>\n",
       "</div>"
      ],
      "text/plain": [
       "          sepal_length  sepal_width  petal_length  petal_width\n",
       "mean          5.843333     3.054000      3.758667     1.198667\n",
       "variance      0.681122     0.186751      3.092425     0.578532\n",
       "median        5.800000     3.000000      4.350000     1.300000\n",
       "max           7.900000     4.400000      6.900000     2.500000\n",
       "min           4.300000     2.000000      1.000000     0.100000"
      ]
     },
     "execution_count": 11,
     "metadata": {},
     "output_type": "execute_result"
    }
   ],
   "source": [
    "iris_dataset = read_csv(r\"C:\\Users\\guilh\\OneDrive\\Documentos\\GitHub\\sistemasinteligentes\\datasets\\iris\\iris.csv\", features=True, label=True)\n",
    "iris_dataset.summary()"
   ]
  },
  {
   "cell_type": "code",
   "execution_count": 12,
   "metadata": {},
   "outputs": [],
   "source": [
    "labels, counts = np.unique(iris_dataset.y, return_counts=True)"
   ]
  },
  {
   "cell_type": "code",
   "execution_count": 13,
   "metadata": {},
   "outputs": [],
   "source": [
    "dataset_train, dataset_test = stratified_train_test_split(iris_dataset, test_size=0.2)\n",
    "labels_train, counts_train = np.unique(dataset_train.y, return_counts=True)\n",
    "labels_test, counts_test = np.unique(dataset_test.y, return_counts=True)\n"
   ]
  },
  {
   "cell_type": "code",
   "execution_count": 14,
   "metadata": {},
   "outputs": [],
   "source": [
    "dataset_train_simple, dataset_test_simple = train_test_split(iris_dataset, test_size=0.2)\n",
    "labels_train_simple, counts_train_simple = np.unique(dataset_train_simple.y, return_counts=True)\n",
    "labels_test_simple, counts_test_simple = np.unique(dataset_test_simple.y, return_counts=True)"
   ]
  },
  {
   "cell_type": "markdown",
   "metadata": {},
   "source": [
    "**Comparation**"
   ]
  },
  {
   "cell_type": "code",
   "execution_count": 16,
   "metadata": {},
   "outputs": [
    {
     "name": "stdout",
     "output_type": "stream",
     "text": [
      "noraml ['Iris-setosa' 'Iris-versicolor' 'Iris-virginica'] [50 50 50]\n",
      "stratified ['Iris-setosa' 'Iris-versicolor' 'Iris-virginica'] [40 40 40]\n",
      "stratified ['Iris-setosa' 'Iris-versicolor' 'Iris-virginica'] [10 10 10]\n",
      "withou stratified ['Iris-setosa' 'Iris-versicolor' 'Iris-virginica'] [40 41 39]\n",
      "withou stratified ['Iris-setosa' 'Iris-versicolor' 'Iris-virginica'] [10  9 11]\n"
     ]
    }
   ],
   "source": [
    "print(\"noraml\",labels,counts)\n",
    "print(\"stratified\",labels_train,counts_train)\n",
    "print(\"stratified\",labels_test,counts_test)\n",
    "print(\"withou stratified\",labels_train_simple,counts_train_simple)\n",
    "print(\"withou stratified\",labels_test_simple,counts_test_simple)"
   ]
  },
  {
   "cell_type": "markdown",
   "metadata": {},
   "source": [
    "# knn regressor"
   ]
  },
  {
   "cell_type": "code",
   "execution_count": 19,
   "metadata": {},
   "outputs": [
    {
     "name": "stdout",
     "output_type": "stream",
     "text": [
      "The rmse of the model is: 81.36259969252635\n"
     ]
    }
   ],
   "source": [
    "filename_cpu = r\"C:\\Users\\guilh\\OneDrive\\Documentos\\GitHub\\sistemasinteligentes\\datasets\\cpu\\cpu.csv\"\n",
    "cpu=read_csv(filename_cpu, sep=\",\",features=True,label=True)\n",
    "train_data, test_data = train_test_split(cpu, test_size=0.2, random_state=42)\n",
    "knn_regressor = KNNRegressor(k=3)  \n",
    "knn_regressor.fit(train_data)\n",
    "score = knn_regressor.score(test_data)\n",
    "print(f'The rmse of the model is: {score}')"
   ]
  },
  {
   "cell_type": "markdown",
   "metadata": {},
   "source": [
    "Sklearn results"
   ]
  },
  {
   "cell_type": "code",
   "execution_count": 18,
   "metadata": {},
   "outputs": [
    {
     "name": "stdout",
     "output_type": "stream",
     "text": [
      "The RMSE of the model is: 81.36021813423898\n"
     ]
    }
   ],
   "source": [
    "from sklearn.neighbors import KNeighborsRegressor\n",
    "from sklearn.metrics import mean_squared_error\n",
    "\n",
    "dataset_train, dataset_test = train_test_split(cpu, test_size=0.2)\n",
    "\n",
    "# initialize the KNN classifier\n",
    "knn = KNeighborsRegressor(n_neighbors=3)\n",
    "\n",
    "# fit the model to the train dataset\n",
    "knn.fit(dataset_train.X, dataset_train.y)\n",
    "\n",
    "# evaluate the model on the test dataset\n",
    "score = mean_squared_error(dataset_test.y, knn.predict(dataset_test.X), squared=False)\n",
    "print(f'The RMSE of the model is: {score}')\n",
    "    "
   ]
  },
  {
   "cell_type": "markdown",
   "metadata": {},
   "source": [
    "# knn classifier"
   ]
  },
  {
   "cell_type": "code",
   "execution_count": 21,
   "metadata": {},
   "outputs": [
    {
     "name": "stdout",
     "output_type": "stream",
     "text": [
      "['Iris-versicolor' 'Iris-setosa' 'Iris-virginica' 'Iris-versicolor'\n",
      " 'Iris-versicolor' 'Iris-setosa' 'Iris-versicolor' 'Iris-virginica'\n",
      " 'Iris-versicolor' 'Iris-versicolor' 'Iris-virginica' 'Iris-setosa'\n",
      " 'Iris-setosa' 'Iris-setosa' 'Iris-setosa' 'Iris-versicolor'\n",
      " 'Iris-virginica' 'Iris-versicolor' 'Iris-versicolor' 'Iris-virginica'\n",
      " 'Iris-setosa' 'Iris-virginica' 'Iris-setosa' 'Iris-virginica'\n",
      " 'Iris-virginica' 'Iris-virginica' 'Iris-virginica' 'Iris-virginica'\n",
      " 'Iris-setosa' 'Iris-setosa'] 1.0\n"
     ]
    }
   ],
   "source": [
    "# knn classifier\n",
    "k = 2\n",
    "kmeans = KNNClassifier(k)\n",
    "kmeans.fit(dataset_train_simple)\n",
    "predictions = kmeans.predict(dataset_test_simple)\n",
    "print(predictions,kmeans.score(dataset_test_simple))\n"
   ]
  },
  {
   "cell_type": "code",
   "execution_count": 25,
   "metadata": {},
   "outputs": [
    {
     "data": {
      "text/plain": [
       "array([1, 1, 1, 1, 1, 1, 1, 1, 1, 1, 1, 1, 1, 1, 1, 1, 1, 1, 1, 1, 1, 1,\n",
       "       1, 1, 1, 1, 1, 1, 1, 1, 1, 1, 1, 1, 1, 1, 1, 1, 1, 1, 1, 1, 1, 1,\n",
       "       1, 1, 1, 1, 1, 1, 3, 0, 3, 0, 0, 0, 2, 0, 0, 0, 0, 0, 0, 0, 0, 0,\n",
       "       0, 0, 0, 0, 2, 0, 0, 0, 0, 0, 3, 3, 0, 0, 0, 0, 0, 2, 0, 0, 3, 0,\n",
       "       0, 0, 0, 0, 0, 0, 0, 0, 0, 0, 0, 0, 2, 2, 3, 3, 3, 3, 0, 3, 3, 3,\n",
       "       2, 3, 3, 2, 2, 2, 3, 3, 3, 0, 3, 2, 3, 2, 3, 3, 2, 2, 3, 3, 3, 3,\n",
       "       2, 3, 3, 3, 2, 3, 2, 3, 2, 2, 2, 3, 2, 2, 2, 2, 2, 2], dtype=int64)"
      ]
     },
     "execution_count": 25,
     "metadata": {},
     "output_type": "execute_result"
    }
   ],
   "source": [
    "# kmeans\n",
    "k = 4\n",
    "kmeans = Kmeans(k)\n",
    "distances = kmeans.fit_transform(iris_dataset)\n",
    "predictions = kmeans.predict(iris_dataset)\n",
    "predictions"
   ]
  },
  {
   "cell_type": "code",
   "execution_count": 26,
   "metadata": {},
   "outputs": [
    {
     "data": {
      "image/png": "[encoded data removed]",
      "text/plain": [
       "<Figure size 640x480 with 1 Axes>"
      ]
     },
     "metadata": {},
     "output_type": "display_data"
    }
   ],
   "source": [
    "for i in range(k):\n",
    "    k_sample = iris_dataset.X[np.where(predictions == i)]\n",
    "    plt.plot(k_sample[:, 0], k_sample[:, 1], 'o')\n",
    "    lines = plt.plot(kmeans.centroids[i, 0], kmeans.centroids[i, 1], 'kx')\n",
    "    plt.setp(lines, ms=15.0)\n",
    "    plt.setp(lines, mew=2.0)\n",
    "\n",
    "plt.show()"
   ]
  },
  {
   "cell_type": "markdown",
   "metadata": {},
   "source": [
    "# Naive Bayes"
   ]
  },
  {
   "cell_type": "markdown",
   "metadata": {},
   "source": [
    "the module categorical_nb.py have the code, test and compartion with sklearn"
   ]
  }
 ],
 "metadata": {
  "kernelspec": {
   "display_name": "Python 3",
   "language": "python",
   "name": "python3"
  },
  "language_info": {
   "codemirror_mode": {
    "name": "ipython",
    "version": 3
   },
   "file_extension": ".py",
   "mimetype": "text/x-python",
   "name": "python",
   "nbconvert_exporter": "python",
   "pygments_lexer": "ipython3",
   "version": "3.11.3"
  }
 },
 "nbformat": 4,
 "nbformat_minor": 2
}
