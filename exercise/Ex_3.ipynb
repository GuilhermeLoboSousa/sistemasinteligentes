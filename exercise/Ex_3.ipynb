{
 "cells": [
  {
   "cell_type": "markdown",
   "metadata": {},
   "source": [
    "**Exercise 3:  SelectPercentile**"
   ]
  },
  {
   "cell_type": "code",
   "execution_count": 10,
   "metadata": {},
   "outputs": [],
   "source": [
    "# imports\n",
    "import sys\n",
    "sys.path.append(\"C:\\\\Users\\\\guilh\\\\OneDrive\\\\Documentos\\\\GitHub\\\\sistemasinteligentes\")\n",
    "from src.io.csv_file import read_csv, write_csv \n",
    "from src.si.data.dataset import Dataset\n",
    "from src.si.feature_selection.variance_threshold import VarianceThreshold\n",
    "from src.si.statistics.f_classification import f_classification\n",
    "from src.si.feature_selection.select_k_best import SelectKBest\n",
    "from src.si.feature_selection.percentile import Percentile"
   ]
  },
  {
   "cell_type": "code",
   "execution_count": 11,
   "metadata": {},
   "outputs": [
    {
     "data": {
      "text/html": [
       "<div>\n",
       "<style scoped>\n",
       "    .dataframe tbody tr th:only-of-type {\n",
       "        vertical-align: middle;\n",
       "    }\n",
       "\n",
       "    .dataframe tbody tr th {\n",
       "        vertical-align: top;\n",
       "    }\n",
       "\n",
       "    .dataframe thead th {\n",
       "        text-align: right;\n",
       "    }\n",
       "</style>\n",
       "<table border=\"1\" class=\"dataframe\">\n",
       "  <thead>\n",
       "    <tr style=\"text-align: right;\">\n",
       "      <th></th>\n",
       "      <th>sepal_length</th>\n",
       "      <th>sepal_width</th>\n",
       "      <th>petal_length</th>\n",
       "      <th>petal_width</th>\n",
       "    </tr>\n",
       "  </thead>\n",
       "  <tbody>\n",
       "    <tr>\n",
       "      <th>mean</th>\n",
       "      <td>5.843333</td>\n",
       "      <td>3.054000</td>\n",
       "      <td>3.758667</td>\n",
       "      <td>1.198667</td>\n",
       "    </tr>\n",
       "    <tr>\n",
       "      <th>variance</th>\n",
       "      <td>0.681122</td>\n",
       "      <td>0.186751</td>\n",
       "      <td>3.092425</td>\n",
       "      <td>0.578532</td>\n",
       "    </tr>\n",
       "    <tr>\n",
       "      <th>median</th>\n",
       "      <td>5.800000</td>\n",
       "      <td>3.000000</td>\n",
       "      <td>4.350000</td>\n",
       "      <td>1.300000</td>\n",
       "    </tr>\n",
       "    <tr>\n",
       "      <th>max</th>\n",
       "      <td>7.900000</td>\n",
       "      <td>4.400000</td>\n",
       "      <td>6.900000</td>\n",
       "      <td>2.500000</td>\n",
       "    </tr>\n",
       "    <tr>\n",
       "      <th>min</th>\n",
       "      <td>4.300000</td>\n",
       "      <td>2.000000</td>\n",
       "      <td>1.000000</td>\n",
       "      <td>0.100000</td>\n",
       "    </tr>\n",
       "  </tbody>\n",
       "</table>\n",
       "</div>"
      ],
      "text/plain": [
       "          sepal_length  sepal_width  petal_length  petal_width\n",
       "mean          5.843333     3.054000      3.758667     1.198667\n",
       "variance      0.681122     0.186751      3.092425     0.578532\n",
       "median        5.800000     3.000000      4.350000     1.300000\n",
       "max           7.900000     4.400000      6.900000     2.500000\n",
       "min           4.300000     2.000000      1.000000     0.100000"
      ]
     },
     "execution_count": 11,
     "metadata": {},
     "output_type": "execute_result"
    }
   ],
   "source": [
    "iris_dataset = read_csv(r\"C:\\Users\\guilh\\OneDrive\\Documentos\\GitHub\\sistemasinteligentes\\datasets\\iris\\iris.csv\", features=True, label=True)\n",
    "iris_dataset.summary()\n"
   ]
  },
  {
   "cell_type": "markdown",
   "metadata": {},
   "source": [
    "Explore the percentile. in this case we obtain the 3 features with fvalue bigger than a percentile of 20"
   ]
  },
  {
   "cell_type": "code",
   "execution_count": 17,
   "metadata": {},
   "outputs": [
    {
     "name": "stdout",
     "output_type": "stream",
     "text": [
      "['sepal_length' 'petal_length' 'petal_width']\n"
     ]
    }
   ],
   "source": [
    "selector = Percentile(percentile=20)\n",
    "selector = selector.fit(iris_dataset)\n",
    "dataset = selector.transform(iris_dataset)\n",
    "\n",
    "# Print selected features\n",
    "print(dataset.features)"
   ]
  },
  {
   "cell_type": "markdown",
   "metadata": {},
   "source": [
    "Explore k best; we select the high value of F"
   ]
  },
  {
   "cell_type": "code",
   "execution_count": 20,
   "metadata": {},
   "outputs": [
    {
     "name": "stdout",
     "output_type": "stream",
     "text": [
      "Features after percentile selection: ['petal_length']\n"
     ]
    }
   ],
   "source": [
    "selector = SelectKBest(k=1)\n",
    "selector = selector.fit(iris_dataset)\n",
    "dataset = selector.transform(iris_dataset)\n",
    "\n",
    "# Print selected features\n",
    "print(\"Features after percentile selection:\",dataset.features)"
   ]
  },
  {
   "cell_type": "markdown",
   "metadata": {},
   "source": [
    "F-scores for each feature, allow a better visualization and understanding"
   ]
  },
  {
   "cell_type": "code",
   "execution_count": 19,
   "metadata": {},
   "outputs": [
    {
     "name": "stdout",
     "output_type": "stream",
     "text": [
      "sepal_length : F-score 119.26450218450469\n",
      "sepal_width : F-score 47.36446140299384\n",
      "petal_length : F-score 1179.0343277002362\n",
      "petal_width : F-score 959.3244057257405\n"
     ]
    }
   ],
   "source": [
    "for features, f in zip(iris_dataset.features, f_classification(iris_dataset)[0]):\n",
    "    print(features, ': F-score', f)"
   ]
  }
 ],
 "metadata": {
  "kernelspec": {
   "display_name": "Python 3",
   "language": "python",
   "name": "python3"
  },
  "language_info": {
   "codemirror_mode": {
    "name": "ipython",
    "version": 3
   },
   "file_extension": ".py",
   "mimetype": "text/x-python",
   "name": "python",
   "nbconvert_exporter": "python",
   "pygments_lexer": "ipython3",
   "version": "3.11.3"
  }
 },
 "nbformat": 4,
 "nbformat_minor": 2
}
