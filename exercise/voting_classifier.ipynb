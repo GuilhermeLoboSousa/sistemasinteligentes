{
 "cells": [
  {
   "cell_type": "markdown",
   "metadata": {},
   "source": [
    "# testing voting_classifier"
   ]
  },
  {
   "cell_type": "code",
   "execution_count": 3,
   "metadata": {},
   "outputs": [],
   "source": [
    "import sys\n",
    "sys.path.append(\"C:\\\\Users\\\\guilh\\\\OneDrive\\\\Documentos\\\\GitHub\\\\sistemasinteligentes\")\n",
    "import numpy as np\n",
    "import pandas as pd\n",
    "from src.si.data.dataset import Dataset\n",
    "from src.io.csv_file import read_csv, write_csv \n",
    "from src.io.data_file import *\n",
    "from src.si.model_selection.split import train_test_split\n",
    "from src.si.models.knn_classifier import KNNClassifier\n",
    "from src.si.models.logistic_regression import LogisticRegression\n",
    "from src.si.models.decision_tree_classifier import DecisionTreeClassifier\n",
    "from src.si.ensemble.voting_classifier import VotingClassifier"
   ]
  },
  {
   "cell_type": "code",
   "execution_count": 6,
   "metadata": {},
   "outputs": [
    {
     "name": "stdout",
     "output_type": "stream",
     "text": [
      "the score is: 0.9856115107913669\n"
     ]
    }
   ],
   "source": [
    "filename_breast = r\"C:\\Users\\guilh\\OneDrive\\Documentos\\GitHub\\sistemasinteligentes\\datasets\\breast_bin\\breast-bin.csv\"\n",
    "breast=read_csv(filename_breast, sep=\",\",features=True,label=True)\n",
    "train_dataset, test_dataset = train_test_split(breast)\n",
    "knn = KNNClassifier(k=3)\n",
    "lg = LogisticRegression(l2_penalty=1, alpha=0.001, max_iter=1000)\n",
    "dt = dt=DecisionTreeClassifier(min_sample_split=3, max_depth=3, mode='gini')\n",
    "\n",
    "# initialize the Voting classifier\n",
    "voting = VotingClassifier([knn, lg, dt])\n",
    "\n",
    "voting.fit(train_dataset)\n",
    "voting.predict(test_dataset)\n",
    "score=voting.score(test_dataset)\n",
    "print(\"the score is:\",score)\n"
   ]
  }
 ],
 "metadata": {
  "kernelspec": {
   "display_name": "Python 3",
   "language": "python",
   "name": "python3"
  },
  "language_info": {
   "codemirror_mode": {
    "name": "ipython",
    "version": 3
   },
   "file_extension": ".py",
   "mimetype": "text/x-python",
   "name": "python",
   "nbconvert_exporter": "python",
   "pygments_lexer": "ipython3",
   "version": "3.11.3"
  }
 },
 "nbformat": 4,
 "nbformat_minor": 2
}
