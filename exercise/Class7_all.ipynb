{
 "cells": [
  {
   "cell_type": "markdown",
   "metadata": {},
   "source": [
    "# RandomForestClassifier"
   ]
  },
  {
   "cell_type": "code",
   "execution_count": 8,
   "metadata": {},
   "outputs": [],
   "source": [
    "import sys\n",
    "sys.path.append(\"C:\\\\Users\\\\guilh\\\\OneDrive\\\\Documentos\\\\GitHub\\\\sistemasinteligentes\")\n",
    "import numpy as np\n",
    "import pandas as pd\n",
    "from src.si.data.dataset import Dataset\n",
    "from src.io.csv_file import read_csv, write_csv \n",
    "from src.io.data_file import *\n",
    "from src.si.model_selection.split import train_test_split\n",
    "from src.si.models.random_forest_classifier import RandomForestClassifier\n",
    "from sklearn.ensemble import RandomForestClassifier as SklearnRandomForestClassifier\n",
    "from src.si.metrics.accuracy import accuracy\n",
    "from src.si.models.knn_classifier import KNNClassifier\n",
    "from src.si.models.logistic_regression import LogisticRegression\n",
    "from src.si.models.decision_tree_classifier import DecisionTreeClassifier\n",
    "from src.si.ensemble.stacking_classifier import StackingClassifier\n",
    "from src.si.model_selection.cross_validate import k_fold_cross_validation\n",
    "from src.si.model_selection.grid_search import grid_search_cv\n",
    "from src.si.model_selection.randomized_search_cv import randomized_search_cv"
   ]
  },
  {
   "cell_type": "code",
   "execution_count": 9,
   "metadata": {},
   "outputs": [
    {
     "name": "stdout",
     "output_type": "stream",
     "text": [
      "made by me: 0.9795918367346939\n",
      "sklearn: 0.9795918367346939\n"
     ]
    }
   ],
   "source": [
    "filename = r\"C:\\Users\\guilh\\OneDrive\\Documentos\\GitHub\\sistemasinteligentes\\datasets\\iris\\iris.csv\"\n",
    "\n",
    "data = read_csv(filename, sep=\",\",features=True,label=True)\n",
    "train, test = train_test_split(data, test_size=0.33, random_state=42)\n",
    "model = RandomForestClassifier(n_estimators=10,min_sample_split=3, max_depth=3, mode='gini')\n",
    "model.fit(train)\n",
    "print(\"made by me:\",model.score(test))\n",
    "\n",
    "#sklearn\n",
    "model_comparation = SklearnRandomForestClassifier(n_estimators=10, min_samples_split=3, max_depth=3)\n",
    "model_comparation.fit(train.X, train.y)\n",
    "print(\"sklearn:\",accuracy(test.y, model_comparation.predict(test.X)))"
   ]
  },
  {
   "cell_type": "markdown",
   "metadata": {},
   "source": [
    "# StackingClassifier ensemble"
   ]
  },
  {
   "cell_type": "code",
   "execution_count": 10,
   "metadata": {},
   "outputs": [
    {
     "name": "stdout",
     "output_type": "stream",
     "text": [
      "0.9856115107913669\n"
     ]
    }
   ],
   "source": [
    "filename_breast = r\"C:\\Users\\guilh\\OneDrive\\Documentos\\GitHub\\sistemasinteligentes\\datasets\\breast_bin\\breast-bin.csv\"\n",
    "breast=read_csv(filename_breast, sep=\",\",features=True,label=True)\n",
    "train_data, test_data = train_test_split(breast, test_size=0.20, random_state=42)\n",
    "\n",
    "#knnregressor\n",
    "knn = KNNClassifier(k=2)\n",
    "\n",
    "#logistic regression\n",
    "LG=LogisticRegression(l2_penalty=1, alpha=0.001, max_iter=1000)\n",
    "\n",
    "#decisiontreee\n",
    "DT=DecisionTreeClassifier(min_sample_split=5, max_depth=5, mode='gini')\n",
    "\n",
    "#final model\n",
    "final_modelo=KNNClassifier(k=2)\n",
    "modelos=[knn,LG,DT]\n",
    "exercise=StackingClassifier(modelos,final_modelo)\n",
    "exercise.fit(train_data)\n",
    "print(exercise.score(test_data))"
   ]
  },
  {
   "cell_type": "markdown",
   "metadata": {},
   "source": [
    "sklearn compartion"
   ]
  },
  {
   "cell_type": "code",
   "execution_count": 4,
   "metadata": {},
   "outputs": [],
   "source": [
    "from sklearn.ensemble import StackingClassifier as StackingClassifier_sklearn\n",
    "from sklearn.neighbors import KNeighborsClassifier\n",
    "from sklearn.linear_model import LogisticRegression\n",
    "from sklearn.tree import DecisionTreeClassifier"
   ]
  },
  {
   "cell_type": "code",
   "execution_count": 5,
   "metadata": {},
   "outputs": [
    {
     "name": "stdout",
     "output_type": "stream",
     "text": [
      "0.9795918367346939\n"
     ]
    }
   ],
   "source": [
    "#knnregressor\n",
    "knn = KNeighborsClassifier(n_neighbors=2)\n",
    "\n",
    "#logistic regression\n",
    "lr=LogisticRegression(penalty='l2', C=0.1, max_iter=1000)\n",
    "\n",
    "#decisiontreee\n",
    "dt=DecisionTreeClassifier(min_samples_split=5, max_depth=5, criterion='gini')\n",
    "\n",
    "#final model\n",
    "final_model=KNeighborsClassifier(n_neighbors=2)\n",
    "models=[('knn',knn),('lr',lr),('dt',dt)]\n",
    "exercise=StackingClassifier_sklearn(estimators=models,final_estimator=final_model)\n",
    "exercise.fit(train.X, train.y)\n",
    "print(accuracy(test.y, exercise.predict(test.X)))"
   ]
  },
  {
   "cell_type": "markdown",
   "metadata": {},
   "source": [
    "# k_fold_cross_validation testing"
   ]
  },
  {
   "cell_type": "code",
   "execution_count": 11,
   "metadata": {},
   "outputs": [
    {
     "name": "stdout",
     "output_type": "stream",
     "text": [
      "[0.9424460431654677, 0.9712230215827338, 0.9928057553956835, 0.9640287769784173, 0.9712230215827338]\n",
      "Mean score: 0.9683453237410072 +/- 0.01615103907959975\n"
     ]
    }
   ],
   "source": [
    "filename_breast = r\"C:\\Users\\guilh\\OneDrive\\Documentos\\GitHub\\sistemasinteligentes\\datasets\\breast_bin\\breast-bin.csv\"\n",
    "breast=read_csv(filename_breast, sep=\",\",features=True,label=True)\n",
    "model = LogisticRegression()\n",
    "# cross validate the model\n",
    "scores_ = k_fold_cross_validation(model, breast, cv=5, seed=1)\n",
    "print(scores_)\n",
    "print(f'Mean score: {np.mean(scores_)} +/- {np.std(scores_)}')"
   ]
  },
  {
   "cell_type": "markdown",
   "metadata": {},
   "source": [
    "# grid search"
   ]
  },
  {
   "cell_type": "code",
   "execution_count": null,
   "metadata": {},
   "outputs": [
    {
     "name": "stdout",
     "output_type": "stream",
     "text": [
      "{'scores': [0.9669540229885057, 0.9683908045977012, 0.9669540229885057, 0.9669540229885057, 0.9669540229885057, 0.9669540229885057, 0.9655172413793104, 0.9669540229885057], 'hyperparameters': [{'l2_penalty': 1, 'alpha': 0.001, 'max_iter': 1000}, {'l2_penalty': 1, 'alpha': 0.001, 'max_iter': 2000}, {'l2_penalty': 1, 'alpha': 0.0001, 'max_iter': 1000}, {'l2_penalty': 1, 'alpha': 0.0001, 'max_iter': 2000}, {'l2_penalty': 10, 'alpha': 0.001, 'max_iter': 1000}, {'l2_penalty': 10, 'alpha': 0.001, 'max_iter': 2000}, {'l2_penalty': 10, 'alpha': 0.0001, 'max_iter': 1000}, {'l2_penalty': 10, 'alpha': 0.0001, 'max_iter': 2000}], 'best_hyperparameters': {'l2_penalty': 1, 'alpha': 0.001, 'max_iter': 2000}, 'best_score': 0.9683908045977012}\n",
      "Best hyperparameters: {'l2_penalty': 1, 'alpha': 0.001, 'max_iter': 2000}\n",
      "Best score: 0.9683908045977012\n"
     ]
    }
   ],
   "source": [
    "filename_breast = r\"C:\\Users\\guilh\\OneDrive\\Documentos\\GitHub\\sistemasinteligentes\\datasets\\breast_bin\\breast-bin.csv\"\n",
    "breast=read_csv(filename_breast, sep=\",\",features=True,label=True)\n",
    "# initialize the Logistic Regression model\n",
    "knn = LogisticRegression()\n",
    "\n",
    "# parameter grid\n",
    "parameter_grid_ = {\n",
    "    'l2_penalty': (1, 10),\n",
    "    'alpha': (0.001, 0.0001),\n",
    "    'max_iter': (1000, 2000)\n",
    "}\n",
    "\n",
    "# cross validate the model\n",
    "results_ = grid_search_cv(knn,\n",
    "                            breast,\n",
    "                            hyperparameter_grid=parameter_grid_,\n",
    "                            cv=3)\n",
    "\n",
    "# print the results\n",
    "print(results_)\n",
    "\n",
    "# get the best hyperparameters\n",
    "best_hyperparameters = results_['best_hyperparameters']\n",
    "print(f\"Best hyperparameters: {best_hyperparameters}\")\n",
    "\n",
    "# get the best score\n",
    "best_score = results_['best_score']\n",
    "print(f\"Best score: {best_score}\")"
   ]
  },
  {
   "cell_type": "markdown",
   "metadata": {},
   "source": [
    "# Randomized_search_cv"
   ]
  },
  {
   "cell_type": "code",
   "execution_count": 13,
   "metadata": {},
   "outputs": [
    {
     "name": "stdout",
     "output_type": "stream",
     "text": [
      "all [0.9655172413793104, 0.9669540229885057, 0.9669540229885057, 0.9669540229885057, 0.9669540229885057, 0.9669540229885057, 0.9669540229885057, 0.9683908045977011, 0.9669540229885056, 0.9683908045977011, 0.9669540229885056, 0.9669540229885057, 0.9669540229885057, 0.9669540229885057, 0.9669540229885056, 0.9669540229885056, 0.9655172413793104, 0.9669540229885057, 0.9669540229885057, 0.9669540229885057, 0.9669540229885056, 0.9669540229885056, 0.9669540229885056, 0.9669540229885057, 0.9669540229885057, 0.9669540229885057, 0.9669540229885056, 0.9669540229885057, 0.9669540229885057, 0.9669540229885056, 0.9669540229885057, 0.9669540229885056, 0.9669540229885057, 0.9669540229885057, 0.9655172413793104, 0.9669540229885056, 0.9669540229885057, 0.9669540229885057, 0.9669540229885057, 0.9669540229885057, 0.9655172413793104, 0.9669540229885057, 0.9669540229885057, 0.9669540229885057, 0.9669540229885057, 0.9655172413793104, 0.9669540229885057, 0.9683908045977012, 0.9669540229885056, 0.9669540229885057, 0.9669540229885057, 0.9683908045977012, 0.9669540229885057, 0.9669540229885057, 0.9669540229885057, 0.9669540229885057, 0.9669540229885057, 0.9669540229885056, 0.9669540229885057, 0.9669540229885057, 0.9669540229885057, 0.9669540229885057, 0.9683908045977011, 0.9698275862068965, 0.9669540229885057, 0.9669540229885056, 0.9683908045977011, 0.9655172413793104, 0.9669540229885056, 0.9669540229885056, 0.9669540229885057, 0.9669540229885057, 0.9683908045977012, 0.9669540229885056, 0.9669540229885057, 0.9669540229885057, 0.9655172413793104, 0.9669540229885057, 0.9669540229885057, 0.9669540229885057, 0.9669540229885057, 0.9655172413793104, 0.9669540229885056, 0.9669540229885056, 0.9669540229885057, 0.9655172413793104, 0.9669540229885057, 0.9669540229885057, 0.9669540229885057, 0.9669540229885057, 0.9669540229885057, 0.9669540229885057, 0.9669540229885056, 0.9669540229885057, 0.9683908045977011, 0.9669540229885057, 0.9669540229885057, 0.9669540229885057, 0.9669540229885057, 0.9669540229885057]\n",
      "Best avg score: 0.9698275862068965\n",
      "best hiper: {'l2_penalty': 3.0, 'alpha': 0.00046363636363636366, 'max_iter': 1618.0904522613066}\n"
     ]
    }
   ],
   "source": [
    "filename_breast = r\"C:\\Users\\guilh\\OneDrive\\Documentos\\GitHub\\sistemasinteligentes\\datasets\\breast_bin\\breast-bin.csv\"\n",
    "breast=read_csv(filename_breast, sep=\",\",features=True,label=True)\n",
    "model = LogisticRegression()\n",
    "parameter_grid_ = {\n",
    "        'l2_penalty':np.linspace(1, 10, 10),\n",
    "        'alpha':  np.linspace(0.001, 0.0001, 100),\n",
    "        'max_iter': np.linspace(1000, 2000, 200)\n",
    "    }\n",
    "results_ = randomized_search_cv(model,\n",
    "                          breast,\n",
    "                          hyperparameter_grid=parameter_grid_,\n",
    "                          cv=3,\n",
    "                          n_iter=100)\n",
    "\n",
    "#print(results_)\n",
    "#scores\n",
    "print(\"all\",results_[\"scores\"])\n",
    "# get the best score\n",
    "best_score = results_['best_score']\n",
    "print(f\"Best avg score: {best_score}\")\n",
    "print(\"best hiper:\", results_[\"best_hyperparameters\"])\n",
    "#no exercicio da aula 7 do grid o numero maximo de combinações é 8 entao\n",
    "#cheguei a fazer com o  n_iter=8  para verificar se dava o mesmo resultado que em grid search e deu, o que oprova estar bem implementado\n",
    "#deu isto :{'l2_penalty': 1, 'alpha': 0.0001, 'max_iter': 1000}, 'best_score': 0.9683908045977011}\n"
   ]
  },
  {
   "cell_type": "code",
   "execution_count": null,
   "metadata": {},
   "outputs": [],
   "source": []
  }
 ],
 "metadata": {
  "kernelspec": {
   "display_name": "Python 3",
   "language": "python",
   "name": "python3"
  },
  "language_info": {
   "codemirror_mode": {
    "name": "ipython",
    "version": 3
   },
   "file_extension": ".py",
   "mimetype": "text/x-python",
   "name": "python",
   "nbconvert_exporter": "python",
   "pygments_lexer": "ipython3",
   "version": "3.11.3"
  }
 },
 "nbformat": 4,
 "nbformat_minor": 2
}
