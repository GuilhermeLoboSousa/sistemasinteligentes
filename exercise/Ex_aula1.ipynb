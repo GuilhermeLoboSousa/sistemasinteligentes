{
 "cells": [
  {
   "cell_type": "markdown",
   "metadata": {},
   "source": [
    "# Exercise class1 : NumPy array and Indexing Slicing"
   ]
  },
  {
   "cell_type": "code",
   "execution_count": 1,
   "metadata": {},
   "outputs": [],
   "source": [
    "import sys\n",
    "sys.path.append(\"C:\\\\Users\\\\guilh\\\\OneDrive\\\\Documentos\\\\GitHub\\\\sistemasinteligentes\")\n",
    "import numpy as np\n",
    "import pandas as pd\n",
    "from src.si.data.dataset import Dataset\n",
    "from src.io.csv_file import read_csv, write_csv \n",
    "from src.io.data_file import *"
   ]
  },
  {
   "cell_type": "markdown",
   "metadata": {},
   "source": [
    "**1.1. In this exercise , we will use the iris dataset . Load the \"iris.csv\" using the appropriate method for this file type (use the new functions from the package).**"
   ]
  },
  {
   "cell_type": "code",
   "execution_count": 2,
   "metadata": {},
   "outputs": [],
   "source": [
    "filename = r\"C:\\Users\\guilh\\OneDrive\\Documentos\\GitHub\\sistemasinteligentes\\datasets\\iris\\iris.csv\""
   ]
  },
  {
   "cell_type": "code",
   "execution_count": 3,
   "metadata": {},
   "outputs": [],
   "source": [
    "dataset=read_csv(filename, sep=\",\",features=True,label=True)"
   ]
  },
  {
   "cell_type": "markdown",
   "metadata": {},
   "source": [
    "**1.2) Select the penultimate independent variable. What is the dimension of the resulting array?**\n"
   ]
  },
  {
   "cell_type": "code",
   "execution_count": 4,
   "metadata": {},
   "outputs": [
    {
     "name": "stdout",
     "output_type": "stream",
     "text": [
      "Dimension: 150\n"
     ]
    }
   ],
   "source": [
    "penultimo=dataset.X[:,-2]\n",
    "print(\"Dimension:\",penultimo.shape[0])"
   ]
  },
  {
   "cell_type": "markdown",
   "metadata": {},
   "source": [
    "**1.3) Select the last 10 samples from the iris dataset. What is the mean of the last 10 samples for each independent variable/feature?**"
   ]
  },
  {
   "cell_type": "code",
   "execution_count": 5,
   "metadata": {},
   "outputs": [
    {
     "name": "stdout",
     "output_type": "stream",
     "text": [
      "[[6.7 3.1 5.6 2.4]\n",
      " [6.9 3.1 5.1 2.3]\n",
      " [5.8 2.7 5.1 1.9]\n",
      " [6.8 3.2 5.9 2.3]\n",
      " [6.7 3.3 5.7 2.5]\n",
      " [6.7 3.  5.2 2.3]\n",
      " [6.3 2.5 5.  1.9]\n",
      " [6.5 3.  5.2 2. ]\n",
      " [6.2 3.4 5.4 2.3]\n",
      " [5.9 3.  5.1 1.8]]\n"
     ]
    }
   ],
   "source": [
    "last_10=dataset.X[-10:,:]\n",
    "print(last_10)"
   ]
  },
  {
   "cell_type": "code",
   "execution_count": 6,
   "metadata": {},
   "outputs": [
    {
     "name": "stdout",
     "output_type": "stream",
     "text": [
      "{'sepal_length': 6.450000000000001, 'sepal_width': 3.0300000000000002, 'petal_length': 5.33, 'petal_width': 2.17}\n"
     ]
    }
   ],
   "source": [
    "mean_per_feature = np.mean(last_10, axis=0)\n",
    "# indicar a media por cada feature\n",
    "features_names=dataset.features[:]\n",
    "mean_dict={features_names[i]:mean_per_feature[i] for i in range(len(features_names))}\n",
    "print(mean_dict)"
   ]
  },
  {
   "cell_type": "markdown",
   "metadata": {},
   "source": [
    "**1.4) Select all samples from the dataset with values less than or equal to 6 for all independent variables/features. How many samples do you obtain?**"
   ]
  },
  {
   "cell_type": "code",
   "execution_count": 7,
   "metadata": {},
   "outputs": [
    {
     "name": "stdout",
     "output_type": "stream",
     "text": [
      "Obtained samples:  89\n"
     ]
    }
   ],
   "source": [
    "dados = dataset.X[:,:]\n",
    "condicao = (dados <= 6).all(axis=1) # para ir buscar apenas [] e poder fazer o resto, caso contrario aparece [[]]\n",
    "soma = condicao.sum()\n",
    "print(\"Obtained samples: \", soma)"
   ]
  },
  {
   "cell_type": "markdown",
   "metadata": {},
   "source": [
    "**1.5) Select all samples with a class/label differentfrom 'Iris setosa'. How many samples do you obtain?**\n"
   ]
  },
  {
   "cell_type": "code",
   "execution_count": 8,
   "metadata": {},
   "outputs": [
    {
     "name": "stdout",
     "output_type": "stream",
     "text": [
      "Obtained samples: 100\n"
     ]
    }
   ],
   "source": [
    "novo=dataset.y\n",
    "total=np.sum(novo!=\"Iris-setosa\")\n",
    "print(\"Obtained samples:\", total)"
   ]
  },
  {
   "cell_type": "markdown",
   "metadata": {},
   "source": [
    "**extra exercise**\n",
    "Exploration even more the class dataset"
   ]
  },
  {
   "cell_type": "code",
   "execution_count": 9,
   "metadata": {},
   "outputs": [
    {
     "name": "stdout",
     "output_type": "stream",
     "text": [
      "Shape: (3, 3)\n",
      "Has Label: True\n",
      "Classes: [0 1]\n",
      "Mean: [4.  3.5 6. ]\n",
      "Variance: [6.   2.25 9.  ]\n",
      "Median: [4.  3.5 6. ]\n",
      "Max: [7. 5. 9.]\n",
      "Min: [1. 2. 3.]\n",
      "Summary:\n",
      "          feature_1  feature_2  feature_3\n",
      "mean            4.0       3.50        6.0\n",
      "variance        6.0       2.25        9.0\n",
      "median          4.0       3.50        6.0\n",
      "max             7.0       5.00        9.0\n",
      "min             1.0       2.00        3.0\n",
      "[[1.         2.         3.        ]\n",
      " [4.         5.         5.06420129]\n",
      " [7.         2.87754883 9.        ]]\n",
      "<src.si.data.dataset.Dataset object at 0x0000021B6CD5C0D0>\n",
      "[[4.         5.         5.06420129]\n",
      " [7.         2.87754883 9.        ]] [1 0]\n"
     ]
    }
   ],
   "source": [
    "X = np.array([[1, 2, 3],\n",
    "              [4, 5, np.nan],\n",
    "              [7, np.nan, 9]])\n",
    "y = np.array([0, 1, 0])\n",
    "features = ['feature_1', 'feature_2', 'feature_3']\n",
    "label = 'target'\n",
    "\n",
    "dataset = Dataset(X, y, features, label)\n",
    "print(\"Shape:\", dataset.shape())  # Deve retornar (3, 3)\n",
    "print(\"Has Label:\", dataset.has_label())  # Deve retornar True\n",
    "print(\"Classes:\", dataset.get_classes())  # Deve retornar [0 1]\n",
    "print(\"Mean:\", dataset.get_mean())  # Deve retornar [4. 5. 6.]\n",
    "print(\"Variance:\", dataset.get_variance())  \n",
    "print(\"Median:\", dataset.get_median())  # Deve retornar [4. 5. 6.]\n",
    "print(\"Max:\", dataset.get_max())  # Deve retornar [7. 8. 9.]\n",
    "print(\"Min:\", dataset.get_min())  # Deve retornar [1. 2. 3.]\n",
    "summary_df = dataset.summary()\n",
    "print(\"Summary:\")\n",
    "print(summary_df)\n",
    "#removed_indices = dataset.dropna()\n",
    "#print(\"dataset,Indices removidos:\", removed_indices)  # Deve retornar os índices das linhas com valores NaN\n",
    "#print(\"Shape após a remoção de NaNs:\", dataset.shape())  # Deve retornar a nova forma após a remoção\n",
    "strategy = \"value\"\n",
    "dataset_filled_value = dataset.fill_na(strategy)\n",
    "print(dataset_filled_value.X)\n",
    "print(dataset.remove_by_index(0))\n",
    "print(dataset.X,dataset.y)"
   ]
  }
 ],
 "metadata": {
  "kernelspec": {
   "display_name": "Python 3",
   "language": "python",
   "name": "python3"
  },
  "language_info": {
   "codemirror_mode": {
    "name": "ipython",
    "version": 3
   },
   "file_extension": ".py",
   "mimetype": "text/x-python",
   "name": "python",
   "nbconvert_exporter": "python",
   "pygments_lexer": "ipython3",
   "version": "3.11.3"
  }
 },
 "nbformat": 4,
 "nbformat_minor": 2
}
